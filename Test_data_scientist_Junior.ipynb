{
  "cells": [
    {
      "cell_type": "markdown",
      "id": "d27fd948",
      "metadata": {
        "id": "d27fd948"
      },
      "source": [
        "# Evaluación de Data Wrangling en Python para un Data Scientist\n",
        "\n",
        "El objetivo de esta evaluación es medir tu habilidad para realizar tareas de data wrangling avanzadas en Python utilizando las bibliotecas más comunes, como pandas, NumPy y datetime y matplotlib. Por favor, sigue las instrucciones de cada pregunta.\n",
        "\n",
        "## Pregunta 1: Importando librerías\n",
        "\n",
        "1. Importa las siguientes librerías:\n",
        "    - pandas con el alias `pd`\n",
        "    - numpy con el alias `np`\n",
        "    - datetime"
      ]
    },
    {
      "cell_type": "code",
      "execution_count": 46,
      "id": "a7964d67",
      "metadata": {
        "id": "a7964d67"
      },
      "outputs": [],
      "source": [
        "import pandas as pd\n",
        "import numpy as np\n",
        "import datetime as dt"
      ]
    },
    {
      "cell_type": "markdown",
      "id": "0120f989",
      "metadata": {
        "id": "0120f989"
      },
      "source": [
        "# Pregunta 2: Cargar, combinar y muestrear archivos CSV\n",
        "\n",
        "Carga los archivos CSV llamados data1.csv y data2.csv en dos DataFrames de pandas llamados df_test_data_scientist y df_test_data_scientist2, respectivamente.\n",
        "\n",
        "Concatena df1 y df2 en un único DataFrame llamado df.\n",
        "\n",
        "Genera una muestra aleatoria del 5% del DataFrame df sin reemplazo y guárdala en un nuevo DataFrame llamado sample_df.\n",
        "\n",
        "Muestra las primeras 10 filas del DataFrame sample_df.\n"
      ]
    },
    {
      "cell_type": "code",
      "source": [
        "\"\"\"\n",
        "Primero, importo  google.colab para acceder a los archivos en nuestro Google Drive.\n",
        "\"\"\"\n",
        "import pandas as pd\n",
        "from google.colab import drive\n",
        "\n",
        "\"\"\"\n",
        "Montamos nuestro Google Drive para poder acceder a los archivos CSV almacenados allí.\n",
        "\"\"\"\n",
        "drive.mount('/content/drive')\n",
        "\n",
        "\"\"\"\n",
        "Después de montar nuestra unidad, cargamos los archivos CSV en dos DataFrames diferentes, llamados df1 y df2, respectivamente.\n",
        "Para esto, usamos la función read_csv de pandas y proporcionamos la ruta del archivo en nuestro Google Drive.\n",
        "\"\"\"\n",
        "df1 = pd.read_csv('/content/drive/My Drive/Colab Notebooks/df_test_data_scientist.csv')\n",
        "df2 = pd.read_csv('/content/drive/My Drive/Colab Notebooks/df_test_data_scientist2.csv')\n",
        "\n",
        "\"\"\"\n",
        "Luego, combinamos estos dos DataFrames en uno solo, llamado df.\n",
        "Esto se logra utilizando la función concat de pandas, que permite unir varios DataFrames a lo largo de un eje particular.\n",
        "\"\"\"\n",
        "df = pd.concat([df1, df2])\n",
        "\n",
        "\"\"\"\n",
        "Después de combinar nuestros DataFrames, generamos una muestra aleatoria del 5% del DataFrame df sin reemplazo.\n",
        "Esto se realiza con la función sample de pandas, donde el argumento frac define la fracción de filas a devolver en la muestra aleatoria,\n",
        "y el argumento replace se establece en False para garantizar que nuestra muestra sea sin reemplazo.\n",
        "\"\"\"\n",
        "sample_df = df.sample(frac=0.05, replace=False)\n",
        "\n",
        "\"\"\"\n",
        "Finalmente, mostramos las primeras 10 filas del DataFrame sample_df utilizando la función head de pandas, que por defecto devuelve las primeras 5 filas de un DataFrame,\n",
        "pero aquí especificamos 10 como argumento para obtener las primeras 10 filas.\n",
        "\"\"\"\n",
        "print(sample_df.head(5))\n"
      ],
      "metadata": {
        "colab": {
          "base_uri": "https://localhost:8080/"
        },
        "id": "JvDljYKE2Zs0",
        "outputId": "114bedcf-7a70-431f-db45-a7b0e78d9dc3"
      },
      "id": "JvDljYKE2Zs0",
      "execution_count": 47,
      "outputs": [
        {
          "output_type": "stream",
          "name": "stdout",
          "text": [
            "Drive already mounted at /content/drive; to attempt to forcibly remount, call drive.mount(\"/content/drive\", force_remount=True).\n",
            "      age    income                                    id  \\\n",
            "870  63.0   91131.0  36fd6b12-b071-4e11-9866-71490f5e524b   \n",
            "972  53.0   76904.0  ddec70c6-8919-4dba-8440-43cde67b08e5   \n",
            "619  49.0   74503.0  032b8441-7ccc-4790-974e-e60e420acbe7   \n",
            "805  72.0  105864.0  88b6b3e4-b817-4580-acd3-f81e0b4c57ff   \n",
            "865   NaN       NaN  8552cc73-1129-4106-8df2-98513995cf61   \n",
            "\n",
            "                          email        date  \\\n",
            "870    lisagarrison@example.com  2018-08-04   \n",
            "972     peggysteele@example.net  2018-06-05   \n",
            "619    simpsonpaula@example.org  2022-05-07   \n",
            "805        hannah89@example.net  2022-01-06   \n",
            "865  robertskathryn@example.org  2022-06-12   \n",
            "\n",
            "                                              comments category      score  \\\n",
            "870  cold east head affect century organization num...        C  45.550384   \n",
            "972  unit budget area huge send suddenly game so ne...        C  93.766787   \n",
            "619  range success individual case safe south struc...        D  59.587515   \n",
            "805  summer scientist stuff huge any significant mu...        B  40.407460   \n",
            "865  baby color on will focus officer fear old deve...        B  46.964271   \n",
            "\n",
            "     sales  count_unique_customers  count_unique_products_sold  \\\n",
            "870   2426                     832                          73   \n",
            "972   1526                     779                          64   \n",
            "619   3757                       5                           5   \n",
            "805   4007                     470                          18   \n",
            "865   2221                     751                          66   \n",
            "\n",
            "                                                title       revenue  \\\n",
            "870               His study individual help we store.  24093.657755   \n",
            "972  Citizen ask find hotel machine stay study guess.  11521.405137   \n",
            "619                            Billion economic most.  40193.903042   \n",
            "805              Sing budget two improve interesting.  41981.844460   \n",
            "865                      Down behind sound dream get.  21128.316318   \n",
            "\n",
            "    subcategory            city   latitude   longitude        phone_number  \\\n",
            "870           Y       Juanburgh  34.369042   22.519658       (877)161-7311   \n",
            "972           Y     Torresmouth   5.479334    3.752597       (135)936-0323   \n",
            "619           Z  East Pamelaton  59.975349  108.562659   144-319-9794x2513   \n",
            "805           Y    Flowersshire -62.977930  120.620914        425-776-8412   \n",
            "865           Z      Velezburgh   0.377740    3.764868  554-154-6591x85772   \n",
            "\n",
            "                                               address  \n",
            "870                5896 Corey Dam\\nShanestad, LA 15695  \n",
            "972  9679 Walker Mall Suite 170\\nLake Patrick, RI 4...  \n",
            "619          14685 Edwards Inlet\\nLake Bruce, NV 35739  \n",
            "805                842 Garcia Dale\\nRoyburgh, SC 65283  \n",
            "865  5445 Phillips Meadow Apt. 130\\nWalkershire, SC...  \n"
          ]
        }
      ]
    },
    {
      "cell_type": "markdown",
      "id": "10980e83",
      "metadata": {
        "id": "10980e83"
      },
      "source": [
        "# Pregunta 3: Limpieza y transformación de datos avanzada\n",
        "Elimina las filas que contengan valores NaN en la columna 'age'.\n",
        "\n",
        "Reemplaza los valores negativos en la columna 'income' por 0.\n",
        "\n",
        "Encuentra y elimina los duplicados en el DataFrame df, teniendo en cuenta las columnas 'id' y 'email'.\n",
        "\n",
        "Escribe una función que extraiga el dominio del correo electrónico de una cadena de texto y aplícala a la columna 'email' del DataFrame df, guardando los resultados en una nueva columna llamada 'email_domain'."
      ]
    },
    {
      "cell_type": "code",
      "execution_count": 48,
      "id": "23a1805c",
      "metadata": {
        "id": "23a1805c"
      },
      "outputs": [],
      "source": [
        "# Pregunta 3: Limpieza y transformación de datos avanzada\n",
        "\n",
        "# Elimina las filas que contengan valores NaN en la columna 'age'.\n",
        "\"\"\"\n",
        "Primero, vamos a eliminar las filas que contienen valores NaN en la columna 'age' utilizando el método dropna() de pandas, pasando el nombre de la columna al argumento 'subset'.\n",
        "\"\"\"\n",
        "df = df.dropna(subset=['age'])\n",
        "\n",
        "# Reemplaza los valores negativos en la columna 'income' por 0.\n",
        "\"\"\"\n",
        "Para reemplazar los valores negativos en la columna 'income' por 0, vamos a utilizar un boolean indexing.\n",
        "Primero, vamos a crear una serie booleana donde cada valor es Verdadero si el correspondiente valor en la columna 'income' es menor que 0 y Falso si no.\n",
        "Luego, vamos a utilizar esta serie para indexar el DataFrame y asignar el valor 0 a las celdas correspondientes en la columna 'income'.\n",
        "\"\"\"\n",
        "df.loc[df['income'] < 0, 'income'] = 0\n",
        "\n",
        "# Encuentra y elimina los duplicados en el DataFrame df, teniendo en cuenta las columnas 'id' y 'email'.\n",
        "\"\"\"\n",
        "Para eliminar los duplicados del DataFrame, usamos el método drop_duplicates() de pandas y pasamos una lista de nombres de columnas al argumento 'subset'.\n",
        "Esta operación eliminará todas las filas que tengan el mismo valor en ambas columnas.\n",
        "\"\"\"\n",
        "df = df.drop_duplicates(subset=['id', 'email'])\n",
        "\n",
        "# Escribe una función que extraiga el dominio del correo electrónico de una cadena de texto y aplícala a la columna 'email' del DataFrame df, guardando los resultados en una nueva columna llamada 'email_domain'.\n",
        "\"\"\"\n",
        "Primero, vamos a definir una función que tome una dirección de correo electrónico como entrada y devuelva el dominio del correo electrónico.\n",
        "Esta función tomará la dirección de correo electrónico, la dividirá en el carácter '@' y devolverá la segunda parte de la dirección de correo electrónico dividida, que es el dominio.\n",
        "Luego, aplicaremos esta función a cada valor en la columna 'email' usando el método apply() de pandas y almacenaremos los resultados en una nueva columna 'email_domain'.\n",
        "\"\"\"\n",
        "def extraer_dominio(email):\n",
        "    return email.split('@')[1]\n",
        "\n",
        "df['email_domain'] = df['email'].apply(extraer_dominio)\n"
      ]
    },
    {
      "cell_type": "markdown",
      "id": "63dea8b2",
      "metadata": {
        "id": "63dea8b2"
      },
      "source": [
        "# Pregunta 4: Manipulación de fechas y horas\n",
        "\n",
        "Convierte la columna 'date' del DataFrame df a un objeto de tipo datetime.\n",
        "\n",
        "Extrae el mes, el día de la semana y la hora de la columna 'date' y guárdalos en nuevas columnas llamadas 'month', 'day_of_week' y 'hour', respectivamente."
      ]
    },
    {
      "cell_type": "code",
      "execution_count": 49,
      "id": "e5aad9d8",
      "metadata": {
        "id": "e5aad9d8"
      },
      "outputs": [],
      "source": [
        "# Pregunta 4: Manipulación de fechas y horas\n",
        "\n",
        "# Convierte la columna 'date' del DataFrame df a un objeto de tipo datetime.\n",
        "\"\"\"\n",
        "Voy a convertir la columna 'date' al tipo de datos datetime utilizando el método to_datetime() de pandas.\n",
        "Luego, voy a verificar el tipo de datos de la columna 'date' para asegurarme de que se haya realizado la conversión correctamente.\n",
        "\"\"\"\n",
        "df['date'] = pd.to_datetime(df['date'])\n",
        "\n",
        "# Extrae el mes, el día de la semana y la hora de la columna 'date' y guárdalos en nuevas columnas llamadas 'month', 'day_of_week' y 'hour', respectivamente.\n",
        "\"\"\"\n",
        "Ahora, voy a extraer el mes, el día de la semana y la hora de la columna 'date' utilizando los atributos dt.month, dt.dayofweek y dt.hour respectivamente.\n",
        "Voy a almacenar estos valores en nuevas columnas llamadas 'month', 'day_of_week' y 'hour'.\n",
        "Finalmente, voy a imprimir las primeras filas del DataFrame para verificar que se hayan creado las nuevas columnas correctamente.\n",
        "\"\"\"\n",
        "df['month'] = df['date'].dt.month\n",
        "df['day_of_week'] = df['date'].dt.dayofweek\n",
        "df['hour'] = df['date'].dt.hour\n"
      ]
    },
    {
      "cell_type": "markdown",
      "id": "340e192a",
      "metadata": {
        "id": "340e192a"
      },
      "source": [
        "# Pregunta 5: One-hot encoding y normalización\n",
        "\n",
        "Supongamos que el DataFrame df tiene una columna categórica llamada 'category', y una columna numérica llamada 'score'.\n",
        "\n",
        "Realiza one-hot encoding para la columna 'category' y añade las nuevas columnas al DataFrame df.\n",
        "Normaliza la columna 'score' utilizando la técnica de Min-Max scaling, es decir, transforma los valores de la columna para que estén en el rango de 0 a 1."
      ]
    },
    {
      "cell_type": "code",
      "execution_count": 50,
      "id": "e6ab8c09",
      "metadata": {
        "id": "e6ab8c09",
        "colab": {
          "base_uri": "https://localhost:8080/"
        },
        "outputId": "660d67a0-e134-45fe-b773-ce80feb3e37c"
      },
      "outputs": [
        {
          "output_type": "stream",
          "name": "stdout",
          "text": [
            "      score  category_cat1  category_cat2  category_cat3\n",
            "0  0.000000              1              0              0\n",
            "1  0.169231              0              1              0\n",
            "2  0.646154              0              0              1\n",
            "3  0.676923              0              1              0\n",
            "4  1.000000              1              0              0\n",
            "5  0.000000              0              0              1\n"
          ]
        }
      ],
      "source": [
        "#Pregunta 5: One-hot encoding y normalización\n",
        "#Supongamos que el DataFrame df tiene una columna categórica llamada 'category', y una columna numérica llamada 'score'.\n",
        "#Realiza one-hot encoding para la columna 'category' y añade las nuevas columnas al DataFrame df.\n",
        "#Normaliza la columna 'score' utilizando la técnica de Min-Max scaling, es decir, transforma los valores de la columna para que estén en el rango de 0 a 1.\n",
        "\n",
        "# Creando un DataFrame de ejemplo para ilustrar los procesos.\n",
        "df = pd.DataFrame({\n",
        "    'category': ['cat1', 'cat2', 'cat3', 'cat2', 'cat1', 'cat3'],\n",
        "    'score': [34, 45, 76, 78, 99, 34]\n",
        "})\n",
        "\n",
        "\"\"\"\n",
        "Voy a realizar un one-hot encoding en la columna 'category'.\n",
        "Esta técnica convertirá cada categoría única en su propia columna binaria.\n",
        "\"\"\"\n",
        "df = pd.get_dummies(df, columns=['category'])\n",
        "\n",
        "\"\"\"\n",
        "A continuación, voy a normalizar la columna 'score' utilizando la técnica de Min-Max scaling.\n",
        "Esto ajustará los valores de 'score' para que estén en el rango de 0 a 1.\n",
        "\"\"\"\n",
        "df['score'] = (df['score'] - df['score'].min()) / (df['score'].max() - df['score'].min())\n",
        "\n",
        "print(df)\n",
        "\n"
      ]
    },
    {
      "cell_type": "markdown",
      "id": "015a95fc",
      "metadata": {
        "id": "015a95fc"
      },
      "source": [
        "# Pregunta 6: Análisis de correlación\n",
        "\n",
        "*   Elemento de lista\n",
        "*   Elemento de lista\n",
        "\n",
        "\n",
        "\n",
        "Calcula el coeficiente de correlación de Pearson entre la columna 'income' y todas las otras columnas numéricas del DataFrame df.\n",
        "Muestra un DataFrame con los coeficientes de correlación de Pearson en orden descendente."
      ]
    },
    {
      "cell_type": "code",
      "execution_count": 58,
      "id": "98511a74",
      "metadata": {
        "id": "98511a74",
        "colab": {
          "base_uri": "https://localhost:8080/",
          "height": 472
        },
        "outputId": "e1965d4c-c878-4700-c291-e6475221be8e"
      },
      "outputs": [
        {
          "output_type": "stream",
          "name": "stdout",
          "text": [
            "income                        1.000000\n",
            "age                           0.994544\n",
            "longitude                     0.052995\n",
            "latitude                      0.041705\n",
            "count_unique_customers        0.012671\n",
            "count_unique_products_sold   -0.009234\n",
            "sales                        -0.012568\n",
            "revenue                      -0.012631\n",
            "score                        -0.034281\n",
            "Name: income, dtype: float64\n",
            "income                        1.000000\n",
            "age                           0.994265\n",
            "longitude                     0.029247\n",
            "count_unique_customers        0.025575\n",
            "latitude                      0.011346\n",
            "count_unique_products_sold    0.000888\n",
            "revenue                      -0.010440\n",
            "sales                        -0.015506\n",
            "score                        -0.021795\n",
            "Name: income, dtype: float64\n"
          ]
        },
        {
          "output_type": "stream",
          "name": "stderr",
          "text": [
            "<ipython-input-58-b303d7dcfa73>:9: FutureWarning: The default value of numeric_only in DataFrame.corr is deprecated. In a future version, it will default to False. Select only valid columns or specify the value of numeric_only to silence this warning.\n",
            "  correlation_df1 = df1.corr()['income'].sort_values(ascending=False)\n",
            "<ipython-input-58-b303d7dcfa73>:10: FutureWarning: The default value of numeric_only in DataFrame.corr is deprecated. In a future version, it will default to False. Select only valid columns or specify the value of numeric_only to silence this warning.\n",
            "  correlation_df2 = df2.corr()['income'].sort_values(ascending=False)\n"
          ]
        },
        {
          "output_type": "execute_result",
          "data": {
            "text/plain": [
              "\"\\nDespués de calcular las correlaciones, las ordeno en orden descendente.\\nEsto hace que sea fácil ver qué variables tienen la mayor correlación con 'income'.\\n\""
            ],
            "application/vnd.google.colaboratory.intrinsic+json": {
              "type": "string"
            }
          },
          "metadata": {},
          "execution_count": 58
        }
      ],
      "source": [
        "# Pregunta 6: Análisis de correlación\n",
        "# Calcula el coeficiente de correlación de Pearson entre la columna 'income' y todas las otras columnas numéricas del DataFrame df.\n",
        "#Muestra un DataFrame con los coeficientes de correlación de Pearson en orden descendente.\n",
        "\"\"\"\n",
        "Primero, me aseguro de que la columna 'income' exista en mis DataFrames df1 y df2. Si no es así, reemplazo 'income' con el nombre de mi columna numérica.\n",
        "Voy a calcular la correlación de Pearson de la columna 'income' con todas las otras columnas numéricas en mis DataFrames.\n",
        "Esto me ayudará a entender qué otras variables están más estrechamente relacionadas con 'income'.\n",
        "\"\"\"\n",
        "correlation_df1 = df1.corr()['income'].sort_values(ascending=False)\n",
        "correlation_df2 = df2.corr()['income'].sort_values(ascending=False)\n",
        "print(correlation_df1)\n",
        "print(correlation_df2)\n",
        "\"\"\"\n",
        "Después de calcular las correlaciones, las ordeno en orden descendente.\n",
        "Esto hace que sea fácil ver qué variables tienen la mayor correlación con 'income'.\n",
        "\"\"\"\n"
      ]
    },
    {
      "cell_type": "markdown",
      "id": "44604181",
      "metadata": {
        "id": "44604181"
      },
      "source": [
        "# Pregunta 7: Creación y aplicación de funciones personalizadas\n",
        "\n",
        "El DataFrame df tiene una columna llamada 'comment' que contiene cadenas de texto.\n",
        "\n",
        "Escribe una función que cuente la cantidad de palabras en una cadena de texto.\n",
        "Aplica la función a la columna 'comment' del DataFrame df y guarda los resultados en una nueva columna llamada 'word_count'.\n",
        "Encuentra y muestra las 5 filas con el mayor 'word_count'."
      ]
    },
    {
      "cell_type": "code",
      "execution_count": 59,
      "id": "376ef8ca",
      "metadata": {
        "id": "376ef8ca",
        "colab": {
          "base_uri": "https://localhost:8080/",
          "height": 502
        },
        "outputId": "639f499c-e2c8-4def-85ae-8bf33d44cca2"
      },
      "outputs": [
        {
          "output_type": "error",
          "ename": "KeyError",
          "evalue": "ignored",
          "traceback": [
            "\u001b[0;31m---------------------------------------------------------------------------\u001b[0m",
            "\u001b[0;31mKeyError\u001b[0m                                  Traceback (most recent call last)",
            "\u001b[0;32m/usr/local/lib/python3.10/dist-packages/pandas/core/indexes/base.py\u001b[0m in \u001b[0;36mget_loc\u001b[0;34m(self, key, method, tolerance)\u001b[0m\n\u001b[1;32m   3801\u001b[0m             \u001b[0;32mtry\u001b[0m\u001b[0;34m:\u001b[0m\u001b[0;34m\u001b[0m\u001b[0;34m\u001b[0m\u001b[0m\n\u001b[0;32m-> 3802\u001b[0;31m                 \u001b[0;32mreturn\u001b[0m \u001b[0mself\u001b[0m\u001b[0;34m.\u001b[0m\u001b[0m_engine\u001b[0m\u001b[0;34m.\u001b[0m\u001b[0mget_loc\u001b[0m\u001b[0;34m(\u001b[0m\u001b[0mcasted_key\u001b[0m\u001b[0;34m)\u001b[0m\u001b[0;34m\u001b[0m\u001b[0;34m\u001b[0m\u001b[0m\n\u001b[0m\u001b[1;32m   3803\u001b[0m             \u001b[0;32mexcept\u001b[0m \u001b[0mKeyError\u001b[0m \u001b[0;32mas\u001b[0m \u001b[0merr\u001b[0m\u001b[0;34m:\u001b[0m\u001b[0;34m\u001b[0m\u001b[0;34m\u001b[0m\u001b[0m\n",
            "\u001b[0;32m/usr/local/lib/python3.10/dist-packages/pandas/_libs/index.pyx\u001b[0m in \u001b[0;36mpandas._libs.index.IndexEngine.get_loc\u001b[0;34m()\u001b[0m\n",
            "\u001b[0;32m/usr/local/lib/python3.10/dist-packages/pandas/_libs/index.pyx\u001b[0m in \u001b[0;36mpandas._libs.index.IndexEngine.get_loc\u001b[0;34m()\u001b[0m\n",
            "\u001b[0;32mpandas/_libs/hashtable_class_helper.pxi\u001b[0m in \u001b[0;36mpandas._libs.hashtable.PyObjectHashTable.get_item\u001b[0;34m()\u001b[0m\n",
            "\u001b[0;32mpandas/_libs/hashtable_class_helper.pxi\u001b[0m in \u001b[0;36mpandas._libs.hashtable.PyObjectHashTable.get_item\u001b[0;34m()\u001b[0m\n",
            "\u001b[0;31mKeyError\u001b[0m: 'comment'",
            "\nThe above exception was the direct cause of the following exception:\n",
            "\u001b[0;31mKeyError\u001b[0m                                  Traceback (most recent call last)",
            "\u001b[0;32m<ipython-input-59-73139afc5acb>\u001b[0m in \u001b[0;36m<cell line: 11>\u001b[0;34m()\u001b[0m\n\u001b[1;32m      9\u001b[0m \u001b[0mAhora\u001b[0m\u001b[0;34m,\u001b[0m \u001b[0mapliquemos\u001b[0m \u001b[0mesta\u001b[0m \u001b[0mfunción\u001b[0m \u001b[0ma\u001b[0m \u001b[0mla\u001b[0m \u001b[0mcolumna\u001b[0m \u001b[0;34m'comment'\u001b[0m \u001b[0;32mdel\u001b[0m \u001b[0mDataFrame\u001b[0m \u001b[0mdf\u001b[0m\u001b[0;34m.\u001b[0m \u001b[0mEsto\u001b[0m \u001b[0mcreará\u001b[0m \u001b[0muna\u001b[0m \u001b[0mnueva\u001b[0m \u001b[0mcolumna\u001b[0m \u001b[0mllamada\u001b[0m \u001b[0;34m'word_count'\u001b[0m \u001b[0mque\u001b[0m \u001b[0mcontendrá\u001b[0m \u001b[0mla\u001b[0m \u001b[0mcantidad\u001b[0m \u001b[0mde\u001b[0m \u001b[0mpalabras\u001b[0m \u001b[0mde\u001b[0m \u001b[0mcada\u001b[0m \u001b[0mcomentario\u001b[0m\u001b[0;34m.\u001b[0m\u001b[0;34m\u001b[0m\u001b[0;34m\u001b[0m\u001b[0m\n\u001b[1;32m     10\u001b[0m \"\"\"\n\u001b[0;32m---> 11\u001b[0;31m \u001b[0mdf1\u001b[0m\u001b[0;34m[\u001b[0m\u001b[0;34m'word_count'\u001b[0m\u001b[0;34m]\u001b[0m \u001b[0;34m=\u001b[0m \u001b[0mdf1\u001b[0m\u001b[0;34m[\u001b[0m\u001b[0;34m'comment'\u001b[0m\u001b[0;34m]\u001b[0m\u001b[0;34m.\u001b[0m\u001b[0mapply\u001b[0m\u001b[0;34m(\u001b[0m\u001b[0mcount_words\u001b[0m\u001b[0;34m)\u001b[0m\u001b[0;34m\u001b[0m\u001b[0;34m\u001b[0m\u001b[0m\n\u001b[0m\u001b[1;32m     12\u001b[0m \u001b[0;34m\u001b[0m\u001b[0m\n\u001b[1;32m     13\u001b[0m \"\"\"\n",
            "\u001b[0;32m/usr/local/lib/python3.10/dist-packages/pandas/core/frame.py\u001b[0m in \u001b[0;36m__getitem__\u001b[0;34m(self, key)\u001b[0m\n\u001b[1;32m   3805\u001b[0m             \u001b[0;32mif\u001b[0m \u001b[0mself\u001b[0m\u001b[0;34m.\u001b[0m\u001b[0mcolumns\u001b[0m\u001b[0;34m.\u001b[0m\u001b[0mnlevels\u001b[0m \u001b[0;34m>\u001b[0m \u001b[0;36m1\u001b[0m\u001b[0;34m:\u001b[0m\u001b[0;34m\u001b[0m\u001b[0;34m\u001b[0m\u001b[0m\n\u001b[1;32m   3806\u001b[0m                 \u001b[0;32mreturn\u001b[0m \u001b[0mself\u001b[0m\u001b[0;34m.\u001b[0m\u001b[0m_getitem_multilevel\u001b[0m\u001b[0;34m(\u001b[0m\u001b[0mkey\u001b[0m\u001b[0;34m)\u001b[0m\u001b[0;34m\u001b[0m\u001b[0;34m\u001b[0m\u001b[0m\n\u001b[0;32m-> 3807\u001b[0;31m             \u001b[0mindexer\u001b[0m \u001b[0;34m=\u001b[0m \u001b[0mself\u001b[0m\u001b[0;34m.\u001b[0m\u001b[0mcolumns\u001b[0m\u001b[0;34m.\u001b[0m\u001b[0mget_loc\u001b[0m\u001b[0;34m(\u001b[0m\u001b[0mkey\u001b[0m\u001b[0;34m)\u001b[0m\u001b[0;34m\u001b[0m\u001b[0;34m\u001b[0m\u001b[0m\n\u001b[0m\u001b[1;32m   3808\u001b[0m             \u001b[0;32mif\u001b[0m \u001b[0mis_integer\u001b[0m\u001b[0;34m(\u001b[0m\u001b[0mindexer\u001b[0m\u001b[0;34m)\u001b[0m\u001b[0;34m:\u001b[0m\u001b[0;34m\u001b[0m\u001b[0;34m\u001b[0m\u001b[0m\n\u001b[1;32m   3809\u001b[0m                 \u001b[0mindexer\u001b[0m \u001b[0;34m=\u001b[0m \u001b[0;34m[\u001b[0m\u001b[0mindexer\u001b[0m\u001b[0;34m]\u001b[0m\u001b[0;34m\u001b[0m\u001b[0;34m\u001b[0m\u001b[0m\n",
            "\u001b[0;32m/usr/local/lib/python3.10/dist-packages/pandas/core/indexes/base.py\u001b[0m in \u001b[0;36mget_loc\u001b[0;34m(self, key, method, tolerance)\u001b[0m\n\u001b[1;32m   3802\u001b[0m                 \u001b[0;32mreturn\u001b[0m \u001b[0mself\u001b[0m\u001b[0;34m.\u001b[0m\u001b[0m_engine\u001b[0m\u001b[0;34m.\u001b[0m\u001b[0mget_loc\u001b[0m\u001b[0;34m(\u001b[0m\u001b[0mcasted_key\u001b[0m\u001b[0;34m)\u001b[0m\u001b[0;34m\u001b[0m\u001b[0;34m\u001b[0m\u001b[0m\n\u001b[1;32m   3803\u001b[0m             \u001b[0;32mexcept\u001b[0m \u001b[0mKeyError\u001b[0m \u001b[0;32mas\u001b[0m \u001b[0merr\u001b[0m\u001b[0;34m:\u001b[0m\u001b[0;34m\u001b[0m\u001b[0;34m\u001b[0m\u001b[0m\n\u001b[0;32m-> 3804\u001b[0;31m                 \u001b[0;32mraise\u001b[0m \u001b[0mKeyError\u001b[0m\u001b[0;34m(\u001b[0m\u001b[0mkey\u001b[0m\u001b[0;34m)\u001b[0m \u001b[0;32mfrom\u001b[0m \u001b[0merr\u001b[0m\u001b[0;34m\u001b[0m\u001b[0;34m\u001b[0m\u001b[0m\n\u001b[0m\u001b[1;32m   3805\u001b[0m             \u001b[0;32mexcept\u001b[0m \u001b[0mTypeError\u001b[0m\u001b[0;34m:\u001b[0m\u001b[0;34m\u001b[0m\u001b[0;34m\u001b[0m\u001b[0m\n\u001b[1;32m   3806\u001b[0m                 \u001b[0;31m# If we have a listlike key, _check_indexing_error will raise\u001b[0m\u001b[0;34m\u001b[0m\u001b[0;34m\u001b[0m\u001b[0m\n",
            "\u001b[0;31mKeyError\u001b[0m: 'comment'"
          ]
        }
      ],
      "source": [
        "\"\"\"\n",
        "Primero, definamos una función que cuente las palabras en una cadena de texto. Esta función se llama 'count_words' y toma una cadena de texto como argumento.\n",
        "\"\"\"\n",
        "def count_words(text):\n",
        "    # Divido el texto en palabras y luego cuento la cantidad de palabras.\n",
        "    return len(text.split())\n",
        "\n",
        "\"\"\"\n",
        "Ahora, apliquemos esta función a la columna 'comment' del DataFrame df. Esto creará una nueva columna llamada 'word_count' que contendrá la cantidad de palabras de cada comentario.\n",
        "\"\"\"\n",
        "df1['word_count'] = df1['comment'].apply(count_words)\n",
        "\n",
        "\"\"\"\n",
        "Finalmente, vamos a encontrar y mostrar las 5 filas con el mayor conteo de palabras en 'comment'. Para hacer esto, ordeno el DataFrame df en orden descendente por 'word_count' y muestro las primeras 5 filas.\n",
        "\"\"\"\n",
        "top5_word_count = df1.sort_values('word_count', ascending=False).head(5)\n",
        "print(\"Estas son las 5 filas con la mayor cantidad de palabras en 'comment':\\n\")\n",
        "print(top5_word_count)\n"
      ]
    },
    {
      "cell_type": "markdown",
      "id": "d756305a",
      "metadata": {
        "id": "d756305a"
      },
      "source": [
        "# Pregunta 8: Agrupamiento por múltiples columnas y filtrado\n",
        "\n",
        "Supongamos que el DataFrame df tiene tres columnas: 'category', 'subcategory' y 'sales'.\n",
        "\n",
        "Agrupa el DataFrame df por las columnas 'category' y 'subcategory'.\n",
        "Calcula la suma de 'sales' para cada grupo.\n",
        "Filtra los resultados para mostrar únicamente aquellos grupos que tengan una suma de 'sales' mayor a 1000.\n",
        "Muestra el resultado en un nuevo DataFrame."
      ]
    },
    {
      "cell_type": "code",
      "execution_count": 57,
      "id": "c50e29bb",
      "metadata": {
        "id": "c50e29bb",
        "colab": {
          "base_uri": "https://localhost:8080/",
          "height": 380
        },
        "outputId": "d25d277f-5534-4283-b097-a204c9cc0b2a"
      },
      "outputs": [
        {
          "output_type": "error",
          "ename": "KeyError",
          "evalue": "ignored",
          "traceback": [
            "\u001b[0;31m---------------------------------------------------------------------------\u001b[0m",
            "\u001b[0;31mKeyError\u001b[0m                                  Traceback (most recent call last)",
            "\u001b[0;32m<ipython-input-57-ca08835d3bdd>\u001b[0m in \u001b[0;36m<cell line: 9>\u001b[0;34m()\u001b[0m\n\u001b[1;32m      7\u001b[0m \u001b[0mEl\u001b[0m \u001b[0mresultado\u001b[0m \u001b[0mde\u001b[0m \u001b[0mestas\u001b[0m \u001b[0moperaciones\u001b[0m \u001b[0mse\u001b[0m \u001b[0mguarda\u001b[0m \u001b[0men\u001b[0m \u001b[0mun\u001b[0m \u001b[0mnuevo\u001b[0m \u001b[0mDataFrame\u001b[0m \u001b[0mllamado\u001b[0m \u001b[0mdf_grouped\u001b[0m\u001b[0;34m.\u001b[0m\u001b[0;34m\u001b[0m\u001b[0;34m\u001b[0m\u001b[0m\n\u001b[1;32m      8\u001b[0m \"\"\"\n\u001b[0;32m----> 9\u001b[0;31m \u001b[0mdf_grouped\u001b[0m \u001b[0;34m=\u001b[0m \u001b[0mdf\u001b[0m\u001b[0;34m.\u001b[0m\u001b[0mgroupby\u001b[0m\u001b[0;34m(\u001b[0m\u001b[0;34m[\u001b[0m\u001b[0;34m'category'\u001b[0m\u001b[0;34m,\u001b[0m \u001b[0;34m'subcategory'\u001b[0m\u001b[0;34m]\u001b[0m\u001b[0;34m)\u001b[0m\u001b[0;34m[\u001b[0m\u001b[0;34m'sales'\u001b[0m\u001b[0;34m]\u001b[0m\u001b[0;34m.\u001b[0m\u001b[0msum\u001b[0m\u001b[0;34m(\u001b[0m\u001b[0;34m)\u001b[0m\u001b[0;34m\u001b[0m\u001b[0;34m\u001b[0m\u001b[0m\n\u001b[0m\u001b[1;32m     10\u001b[0m \u001b[0;34m\u001b[0m\u001b[0m\n\u001b[1;32m     11\u001b[0m \u001b[0;31m# Filtra los resultados para mostrar únicamente aquellos grupos que tengan una suma de 'sales' mayor a 1000. Muestra el resultado en un nuevo DataFrame.\u001b[0m\u001b[0;34m\u001b[0m\u001b[0;34m\u001b[0m\u001b[0m\n",
            "\u001b[0;32m/usr/local/lib/python3.10/dist-packages/pandas/core/frame.py\u001b[0m in \u001b[0;36mgroupby\u001b[0;34m(self, by, axis, level, as_index, sort, group_keys, squeeze, observed, dropna)\u001b[0m\n\u001b[1;32m   8400\u001b[0m         \u001b[0maxis\u001b[0m \u001b[0;34m=\u001b[0m \u001b[0mself\u001b[0m\u001b[0;34m.\u001b[0m\u001b[0m_get_axis_number\u001b[0m\u001b[0;34m(\u001b[0m\u001b[0maxis\u001b[0m\u001b[0;34m)\u001b[0m\u001b[0;34m\u001b[0m\u001b[0;34m\u001b[0m\u001b[0m\n\u001b[1;32m   8401\u001b[0m \u001b[0;34m\u001b[0m\u001b[0m\n\u001b[0;32m-> 8402\u001b[0;31m         return DataFrameGroupBy(\n\u001b[0m\u001b[1;32m   8403\u001b[0m             \u001b[0mobj\u001b[0m\u001b[0;34m=\u001b[0m\u001b[0mself\u001b[0m\u001b[0;34m,\u001b[0m\u001b[0;34m\u001b[0m\u001b[0;34m\u001b[0m\u001b[0m\n\u001b[1;32m   8404\u001b[0m             \u001b[0mkeys\u001b[0m\u001b[0;34m=\u001b[0m\u001b[0mby\u001b[0m\u001b[0;34m,\u001b[0m\u001b[0;34m\u001b[0m\u001b[0;34m\u001b[0m\u001b[0m\n",
            "\u001b[0;32m/usr/local/lib/python3.10/dist-packages/pandas/core/groupby/groupby.py\u001b[0m in \u001b[0;36m__init__\u001b[0;34m(self, obj, keys, axis, level, grouper, exclusions, selection, as_index, sort, group_keys, squeeze, observed, mutated, dropna)\u001b[0m\n\u001b[1;32m    963\u001b[0m             \u001b[0;32mfrom\u001b[0m \u001b[0mpandas\u001b[0m\u001b[0;34m.\u001b[0m\u001b[0mcore\u001b[0m\u001b[0;34m.\u001b[0m\u001b[0mgroupby\u001b[0m\u001b[0;34m.\u001b[0m\u001b[0mgrouper\u001b[0m \u001b[0;32mimport\u001b[0m \u001b[0mget_grouper\u001b[0m\u001b[0;34m\u001b[0m\u001b[0;34m\u001b[0m\u001b[0m\n\u001b[1;32m    964\u001b[0m \u001b[0;34m\u001b[0m\u001b[0m\n\u001b[0;32m--> 965\u001b[0;31m             grouper, exclusions, obj = get_grouper(\n\u001b[0m\u001b[1;32m    966\u001b[0m                 \u001b[0mobj\u001b[0m\u001b[0;34m,\u001b[0m\u001b[0;34m\u001b[0m\u001b[0;34m\u001b[0m\u001b[0m\n\u001b[1;32m    967\u001b[0m                 \u001b[0mkeys\u001b[0m\u001b[0;34m,\u001b[0m\u001b[0;34m\u001b[0m\u001b[0;34m\u001b[0m\u001b[0m\n",
            "\u001b[0;32m/usr/local/lib/python3.10/dist-packages/pandas/core/groupby/grouper.py\u001b[0m in \u001b[0;36mget_grouper\u001b[0;34m(obj, key, axis, level, sort, observed, mutated, validate, dropna)\u001b[0m\n\u001b[1;32m    886\u001b[0m                 \u001b[0min_axis\u001b[0m\u001b[0;34m,\u001b[0m \u001b[0mlevel\u001b[0m\u001b[0;34m,\u001b[0m \u001b[0mgpr\u001b[0m \u001b[0;34m=\u001b[0m \u001b[0;32mFalse\u001b[0m\u001b[0;34m,\u001b[0m \u001b[0mgpr\u001b[0m\u001b[0;34m,\u001b[0m \u001b[0;32mNone\u001b[0m\u001b[0;34m\u001b[0m\u001b[0;34m\u001b[0m\u001b[0m\n\u001b[1;32m    887\u001b[0m             \u001b[0;32melse\u001b[0m\u001b[0;34m:\u001b[0m\u001b[0;34m\u001b[0m\u001b[0;34m\u001b[0m\u001b[0m\n\u001b[0;32m--> 888\u001b[0;31m                 \u001b[0;32mraise\u001b[0m \u001b[0mKeyError\u001b[0m\u001b[0;34m(\u001b[0m\u001b[0mgpr\u001b[0m\u001b[0;34m)\u001b[0m\u001b[0;34m\u001b[0m\u001b[0;34m\u001b[0m\u001b[0m\n\u001b[0m\u001b[1;32m    889\u001b[0m         \u001b[0;32melif\u001b[0m \u001b[0misinstance\u001b[0m\u001b[0;34m(\u001b[0m\u001b[0mgpr\u001b[0m\u001b[0;34m,\u001b[0m \u001b[0mGrouper\u001b[0m\u001b[0;34m)\u001b[0m \u001b[0;32mand\u001b[0m \u001b[0mgpr\u001b[0m\u001b[0;34m.\u001b[0m\u001b[0mkey\u001b[0m \u001b[0;32mis\u001b[0m \u001b[0;32mnot\u001b[0m \u001b[0;32mNone\u001b[0m\u001b[0;34m:\u001b[0m\u001b[0;34m\u001b[0m\u001b[0;34m\u001b[0m\u001b[0m\n\u001b[1;32m    890\u001b[0m             \u001b[0;31m# Add key to exclusions\u001b[0m\u001b[0;34m\u001b[0m\u001b[0;34m\u001b[0m\u001b[0m\n",
            "\u001b[0;31mKeyError\u001b[0m: 'category'"
          ]
        }
      ],
      "source": [
        "# Pregunta 8: Agrupamiento por múltiples columnas y filtrado\n",
        "# Supongamos que el DataFrame df tiene tres columnas: 'category', 'subcategory' y 'sales'.\n",
        "# Agrupa el DataFrame df por las columnas 'category' y 'subcategory'. Calcula la suma de 'sales' para cada grupo.\n",
        "\"\"\"\n",
        "Primero, agrupo el DataFrame df por las columnas 'category' y 'subcategory' utilizando el método groupby().\n",
        "Luego, calculo la suma de 'sales' para cada grupo utilizando el método sum().\n",
        "El resultado de estas operaciones se guarda en un nuevo DataFrame llamado df_grouped.\n",
        "\"\"\"\n",
        "df_grouped = df.groupby(['category', 'subcategory'])['sales'].sum()\n",
        "\n",
        "# Filtra los resultados para mostrar únicamente aquellos grupos que tengan una suma de 'sales' mayor a 1000. Muestra el resultado en un nuevo DataFrame.\n",
        "\"\"\"\n",
        "A continuación, filtro el DataFrame df_grouped para mostrar sólo los grupos que tienen una suma de 'sales' mayor a 1000.\n",
        "Utilizo la función loc para hacer esto, que me permite seleccionar filas por etiqueta.\n",
        "Imprimo el DataFrame resultante para verificar los resultados.\n",
        "\"\"\"\n",
        "df_filtered = df_grouped.loc[df_grouped > 1000]\n",
        "print(df_filtered)\n"
      ]
    },
    {
      "cell_type": "markdown",
      "id": "cf87b34a",
      "metadata": {
        "id": "cf87b34a"
      },
      "source": [
        "# Pregunta 9: Filtrado de filas en función de una lista\n",
        "\n",
        "Supongamos que el DataFrame df tiene una columna llamada 'city' y una columna numérica llamada 'population'.\n",
        "\n",
        "Crea una lista de ciudades de interés, por ejemplo: cities_of_interest = ['New York', 'Los Angeles', 'Chicago'].\n",
        "Filtra el DataFrame df para mostrar únicamente las filas cuya columna 'city' esté en la lista cities_of_interest.\n",
        "Muestra las primeras 10 filas del DataFrame filtrado."
      ]
    },
    {
      "cell_type": "code",
      "execution_count": null,
      "id": "dab3e7d4",
      "metadata": {
        "id": "dab3e7d4",
        "colab": {
          "base_uri": "https://localhost:8080/"
        },
        "outputId": "32cd956b-1b3c-4ec9-9223-fcc041ae33b5"
      },
      "outputs": [
        {
          "output_type": "stream",
          "name": "stdout",
          "text": [
            "Empty DataFrame\n",
            "Columns: [age, income, id, email, date, comments, category, score, sales, count_unique_customers, count_unique_products_sold, title, revenue, subcategory, city, latitude, longitude, phone_number, address, email_domain, month, day_of_week, hour]\n",
            "Index: []\n",
            "\n",
            "[0 rows x 23 columns]\n"
          ]
        }
      ],
      "source": [
        "# Pregunta 9: Filtrado de filas en función de una lista\n",
        "# Supongamos que el DataFrame df tiene una columna llamada 'city' y una columna numérica llamada 'population'.\n",
        "# Crea una lista de ciudades de interés, por ejemplo: cities_of_interest = ['New York', 'Los Angeles', 'Chicago'].\n",
        "\"\"\"\n",
        "Primero, crearé una lista de ciudades de interés. Luego, crearé un filtro que verifica si la columna 'city' de df está en esta lista.\n",
        "El filtro será una Serie de booleanos, donde True indica que la ciudad está en la lista de ciudades de interés.\n",
        "\"\"\"\n",
        "cities_of_interest = ['New York', 'Los Angeles', 'Chicago']\n",
        "filter = df['city'].isin(cities_of_interest)\n",
        "# Filtra el DataFrame df para mostrar únicamente las filas cuya columna 'city' esté en la lista cities_of_interest.\n",
        "\"\"\"\n",
        "A continuación, aplicaré el filtro a df para seleccionar sólo las filas que corresponden a las ciudades de interés.\n",
        "Guardo este DataFrame filtrado en una nueva variable df_filtered.\n",
        "\"\"\"\n",
        "df_filtered = df[filter]\n",
        "# Muestra las primeras 10 filas del DataFrame filtrado.\n",
        "\"\"\"\n",
        "Finalmente, muestro las primeras 10 filas de df_filtered utilizando el método head().\n",
        "Este método devuelve las primeras n filas de un DataFrame, donde n es el argumento que pasamos al método.\n",
        "En este caso, quiero ver las primeras 10 filas, así que paso 10 como argumento.\n",
        "\"\"\"\n",
        "print(df_filtered.head(10))\n"
      ]
    },
    {
      "cell_type": "markdown",
      "id": "ec6f7cd2",
      "metadata": {
        "id": "ec6f7cd2"
      },
      "source": [
        "# Pregunta 10: Filtrado basado en una función personalizada\n",
        "\n",
        "Supongamos que el DataFrame df tiene una columna llamada 'title' que contiene títulos de libros.\n",
        "\n",
        "Escribe una función que tome una cadena de texto y devuelva True si la cadena contiene la palabra \"Python\" y False en caso contrario.\n",
        "Aplica la función a la columna 'title' del DataFrame df y filtra las filas en función del resultado.\n",
        "Muestra las primeras 10 filas del DataFrame filtrado."
      ]
    },
    {
      "cell_type": "code",
      "execution_count": null,
      "id": "2dcfbff9",
      "metadata": {
        "id": "2dcfbff9",
        "colab": {
          "base_uri": "https://localhost:8080/"
        },
        "outputId": "1532962b-afbd-49be-afa2-45cea1e673d7"
      },
      "outputs": [
        {
          "output_type": "stream",
          "name": "stdout",
          "text": [
            "Empty DataFrame\n",
            "Columns: [age, income, id, email, date, comments, category, score, sales, count_unique_customers, count_unique_products_sold, title, revenue, subcategory, city, latitude, longitude, phone_number, address, email_domain, month, day_of_week, hour]\n",
            "Index: []\n",
            "\n",
            "[0 rows x 23 columns]\n"
          ]
        }
      ],
      "source": [
        "# Pregunta 10: Filtrado basado en una función personalizada\n",
        "# Supongamos que el DataFrame df tiene una columna llamada 'title' que contiene títulos de libros.\n",
        "# Escribe una función que tome una cadena de texto y devuelva True si la cadena contiene la palabra \"Python\" y False en caso contrario.\n",
        "\"\"\"\n",
        "Primero, escribiré una función que toma una cadena de texto y devuelve True si la cadena contiene la palabra \"Python\" y False en caso contrario.\n",
        "Nombraré a esta función \"contains_python\".\n",
        "\"\"\"\n",
        "def contains_python(title):\n",
        "    return 'Python' in title\n",
        "# Aplica la función a la columna 'title' del DataFrame df y filtra las filas en función del resultado.\n",
        "\"\"\"\n",
        "Luego, aplicaré la función \"contains_python\" a la columna 'title' de df utilizando el método \"apply\".\n",
        "Esto devolverá una Serie de booleanos, donde True indica que el título contiene la palabra \"Python\".\n",
        "Finalmente, usaré esta Serie para filtrar df, seleccionando solo las filas donde el título contiene la palabra \"Python\".\n",
        "\"\"\"\n",
        "df_filtered = df[df['title'].apply(contains_python)]\n",
        "# Muestra las primeras 10 filas del DataFrame filtrado.\n",
        "\"\"\"\n",
        "Al final, mostraré las primeras 10 filas de df_filtered utilizando el método \"head\".\n",
        "\"\"\"\n",
        "print(df_filtered.head(10))\n"
      ]
    },
    {
      "cell_type": "markdown",
      "id": "0abd90fc",
      "metadata": {
        "id": "0abd90fc"
      },
      "source": [
        "# Pregunta 11: Gráfico de dispersión\n",
        "\n",
        "Supongamos que el DataFrame df tiene dos columnas numéricas llamadas 'revenue' y 'sales'.\n",
        "\n",
        "Crea un gráfico de dispersión que muestre la relación entre 'score' y 'sales'. Asegúrate de etiquetar los ejes y darle un título al gráfico."
      ]
    },
    {
      "cell_type": "code",
      "execution_count": null,
      "id": "bb3a21c7",
      "metadata": {
        "id": "bb3a21c7",
        "colab": {
          "base_uri": "https://localhost:8080/",
          "height": 472
        },
        "outputId": "52097681-5097-4435-82ea-d67e59794ac8"
      },
      "outputs": [
        {
          "output_type": "display_data",
          "data": {
            "text/plain": [
              "<Figure size 640x480 with 1 Axes>"
            ],
            "image/png": "[encoded data removed]"
          },
          "metadata": {}
        }
      ],
      "source": [
        "# Pregunta 11: Gráfico de dispersión\n",
        "# Supongamos que el DataFrame df tiene dos columnas numéricas llamadas 'revenue' y 'sales'.\n",
        "# Crea un gráfico de dispersión que muestre la relación entre 'score' y 'sales'.\n",
        "# Asegúrate de etiquetar los ejes y darle un título al gráfico.\n",
        "\n",
        "# Importamos la librería necesaria para la visualización\n",
        "import matplotlib.pyplot as plt\n",
        "\n",
        "# Creamos la figura y los ejes\n",
        "fig, ax = plt.subplots()\n",
        "\n",
        "# Generamos el gráfico de dispersión con 'sales' en el eje x y 'revenue' en el eje y.\n",
        "ax.scatter(df['sales'], df['revenue'])\n",
        "\n",
        "# Establecemos las etiquetas de los ejes y el título del gráfico\n",
        "ax.set_xlabel('Ventas')\n",
        "ax.set_ylabel('Ingresos')\n",
        "ax.set_title('Relación entre Ventas e Ingresos')\n",
        "\n",
        "# Mostramos el gráfico\n",
        "plt.show()\n"
      ]
    },
    {
      "cell_type": "markdown",
      "id": "0766edd5",
      "metadata": {
        "id": "0766edd5"
      },
      "source": [
        "# Pregunta 12: Histograma\n",
        "Supongamos que el DataFrame df tiene una columna numérica llamada 'age'.\n",
        "\n",
        "Crea un histograma que muestre la distribución de la columna 'age'. Asegúrate de etiquetar los ejes y darle un título al gráfico.\n",
        "Experimenta con diferentes números de bins para obtener la visualización más adecuada."
      ]
    },
    {
      "cell_type": "code",
      "execution_count": null,
      "id": "d88ad5fa",
      "metadata": {
        "id": "d88ad5fa",
        "colab": {
          "base_uri": "https://localhost:8080/",
          "height": 472
        },
        "outputId": "c475d291-c5a0-4170-e9cf-623b1cb4bd65"
      },
      "outputs": [
        {
          "output_type": "display_data",
          "data": {
            "text/plain": [
              "<Figure size 640x480 with 1 Axes>"
            ],
            "image/png": "[encoded data removed]"
          },
          "metadata": {}
        }
      ],
      "source": [
        "# Pregunta 12: Histograma\n",
        "# Supongamos que el DataFrame df tiene una columna numérica llamada 'age'.\n",
        "# Crea un histograma que muestre la distribución de la columna 'age'.\n",
        "# Asegúrate de etiquetar los ejes y darle un título al gráfico.\n",
        "# Experimenta con diferentes números de bins para obtener la visualización más adecuada.\n",
        "\n",
        "# Importamos la librería necesaria para la visualización\n",
        "import matplotlib.pyplot as plt\n",
        "\n",
        "# Creamos la figura y los ejes\n",
        "fig, ax = plt.subplots()\n",
        "\n",
        "# Generamos el histograma de la columna 'age', probamos con diferentes bins, por ejemplo, 10, para visualizar de forma más detallada la distribución\n",
        "ax.hist(df['age'], bins=10)\n",
        "\n",
        "# Establecemos las etiquetas de los ejes y el título del gráfico\n",
        "ax.set_xlabel('Edad')\n",
        "ax.set_ylabel('Frecuencia')\n",
        "ax.set_title('Distribución de Edades')\n",
        "\n",
        "# Mostramos el gráfico\n",
        "plt.show()\n"
      ]
    },
    {
      "cell_type": "markdown",
      "id": "38a350d7",
      "metadata": {
        "id": "38a350d7"
      },
      "source": [
        "# Pregunta 13: Análisis de texto y agregación\n",
        "\n",
        "Utilizando la columna 'comments' del DataFrame df, encuentra las 10 palabras más frecuentes que aparezcan en los comentarios"
      ]
    },
    {
      "cell_type": "code",
      "execution_count": null,
      "id": "41b83a42",
      "metadata": {
        "id": "41b83a42",
        "colab": {
          "base_uri": "https://localhost:8080/"
        },
        "outputId": "e86868c6-010d-455d-a242-f56bf86914fb"
      },
      "outputs": [
        {
          "output_type": "stream",
          "name": "stdout",
          "text": [
            "[('apply', 59), ('most', 57), ('although', 55), ('design', 55), ('direction', 53), ('project', 52), ('hundred', 52), ('west', 52), ('executive', 52), ('never', 52)]\n"
          ]
        }
      ],
      "source": [
        "# Pregunta 13: Análisis de texto y agregación\n",
        "# Utilizando la columna 'comments' del DataFrame df, encuentra las 10 palabras más frecuentes que aparezcan en los comentarios\n",
        "\n",
        "# Importamos la librería necesaria para el conteo de palabras\n",
        "from collections import Counter\n",
        "\n",
        "# Creo una lista vacía para almacenar todas las palabras de los comentarios\n",
        "word_list = []\n",
        "\n",
        "# Itero a través de cada comentario en la columna 'comments'\n",
        "for comment in df['comments']:\n",
        "    # Separo el comentario en palabras individuales y las añado a la lista de palabras\n",
        "    word_list.extend(comment.split())\n",
        "\n",
        "# Utilizo Counter para contar la frecuencia de cada palabra en la lista de palabras\n",
        "word_count = Counter(word_list)\n",
        "\n",
        "# Encuentro las 10 palabras más comunes\n",
        "most_common_words = word_count.most_common(10)\n",
        "\n",
        "# Imprimo las 10 palabras más comunes\n",
        "print(most_common_words)\n"
      ]
    },
    {
      "cell_type": "markdown",
      "id": "92d492d0",
      "metadata": {
        "id": "92d492d0"
      },
      "source": [
        "# Pregunta 14: Análisis de series temporales\n",
        "\n",
        "Supongamos que el DataFrame df tiene una columna llamada 'date' con fechas y una columna llamada 'sales' con valores de ventas.\n",
        "\n",
        "Convierte la columna 'date' en un objeto de tipo datetime y configúralo como el índice del DataFrame df.\n",
        "Resample el DataFrame df en intervalos semanales y calcula la suma de 'sales' para cada semana.\n",
        "Calcula y muestra la media móvil de las ventas en un periodo de 4 semanas."
      ]
    },
    {
      "cell_type": "code",
      "execution_count": null,
      "id": "8a0b797c",
      "metadata": {
        "id": "8a0b797c",
        "colab": {
          "base_uri": "https://localhost:8080/"
        },
        "outputId": "1a5c046b-b413-4337-f248-bcb6db458218"
      },
      "outputs": [
        {
          "output_type": "stream",
          "name": "stdout",
          "text": [
            "Ventas semanales:\n",
            " date\n",
            "2018-04-22      681\n",
            "2018-04-29     6845\n",
            "2018-05-06    29957\n",
            "2018-05-13    10631\n",
            "2018-05-20    14973\n",
            "Freq: W-SUN, Name: sales, dtype: int64\n",
            "Media móvil de ventas en un periodo de 4 semanas:\n",
            " date\n",
            "2018-04-22        NaN\n",
            "2018-04-29        NaN\n",
            "2018-05-06        NaN\n",
            "2018-05-13    12028.5\n",
            "2018-05-20    15601.5\n",
            "Freq: W-SUN, Name: sales, dtype: float64\n"
          ]
        }
      ],
      "source": [
        "# Pregunta 14: Análisis de series temporales\n",
        "\n",
        "# Convierte la columna 'date' en un objeto de tipo datetime y configúralo como el índice del DataFrame df.\n",
        "df['date'] = pd.to_datetime(df['date'])\n",
        "df.set_index('date', inplace=True)\n",
        "\n",
        "# Resample el DataFrame df en intervalos semanales y calcula la suma de 'sales' para cada semana.\n",
        "weekly_sales = df['sales'].resample('W').sum()\n",
        "print(\"Ventas semanales:\\n\", weekly_sales.head())\n",
        "\n",
        "# Calcula y muestra la media móvil de las ventas en un periodo de 4 semanas.\n",
        "moving_average_sales = weekly_sales.rolling(window=4).mean()\n",
        "print(\"Media móvil de ventas en un periodo de 4 semanas:\\n\", moving_average_sales.head())\n"
      ]
    },
    {
      "cell_type": "markdown",
      "id": "0378290e",
      "metadata": {
        "id": "0378290e"
      },
      "source": [
        "# Pregunta 15: Diferencia entre fechas\n",
        "\n",
        "Supongamos que el DataFrame df tiene dos columnas llamadas 'start_date' y 'end_date' con fechas en formato \"YYYY-MM-DD\".\n",
        "\n",
        "Convierte las columnas 'start_date' y 'end_date' a objetos de tipo datetime.\n",
        "Calcula la diferencia en días entre 'start_date' y 'end_date' para cada fila y guarda los resultados en una nueva columna llamada 'duration_days'."
      ]
    },
    {
      "cell_type": "code",
      "execution_count": null,
      "id": "7bde3d70",
      "metadata": {
        "id": "7bde3d70",
        "colab": {
          "base_uri": "https://localhost:8080/"
        },
        "outputId": "7a5a11bc-16ad-4c22-8cfc-54bf2e45deec"
      },
      "outputs": [
        {
          "output_type": "stream",
          "name": "stdout",
          "text": [
            "Las columnas 'start_date' y/o 'end_date' no existen en el DataFrame.\n"
          ]
        }
      ],
      "source": [
        "# Pregunta 15: Diferencia entre fechas\n",
        "\n",
        "# Convierte las columnas 'start_date' y 'end_date' a objetos de tipo datetime.\n",
        "if 'start_date' in df.columns and 'end_date' in df.columns:\n",
        "  df['start_date'] = pd.to_datetime(df['start_date'])\n",
        "  df['end_date'] = pd.to_datetime(df['end_date'])\n",
        "\n",
        "# Calcula la diferencia en días entre 'start_date' y 'end_date' para cada fila\n",
        "# y guarda los resultados en una nueva columna llamada 'duration_days'.\n",
        "  df['duration_days'] = (df['end_date'] - df['start_date']).dt.days\n",
        "  print(df.head())\n",
        "else:\n",
        "    print(\"Las columnas 'start_date' y/o 'end_date' no existen en el DataFrame.\")"
      ]
    },
    {
      "cell_type": "markdown",
      "id": "27b54d08",
      "metadata": {
        "id": "27b54d08"
      },
      "source": [
        "# Pregunta 16: Agrupación por periodos de tiempo\n",
        "\n",
        "Supongamos que el DataFrame df tiene una columna llamada 'event_date' con fechas y una columna llamada 'revenue' con valores de ingresos.\n",
        "\n",
        "Convierte la columna 'event_date' en un objeto de tipo datetime y configúralo como el índice del DataFrame df.\n",
        "Agrupa el DataFrame df por trimestre (quarter) y calcula la suma de 'revenue' para cada trimestre.\n",
        "Muestra el resultado en un nuevo DataFrame."
      ]
    },
    {
      "cell_type": "code",
      "execution_count": null,
      "id": "cdb3da83",
      "metadata": {
        "id": "cdb3da83",
        "colab": {
          "base_uri": "https://localhost:8080/"
        },
        "outputId": "7422b114-49ac-42d5-90c7-2796e8856ddd"
      },
      "outputs": [
        {
          "output_type": "stream",
          "name": "stdout",
          "text": [
            "Las columnas 'event_date' y/o 'revenue' no existen en el DataFrame.\n"
          ]
        }
      ],
      "source": [
        "\"\"\"\n",
        "Pregunta 16: Agrupación por periodos de tiempo\n",
        "\n",
        "Como parte de este ejercicio, necesito convertir la columna 'event_date' en un objeto de tipo datetime y configurarla como el índice del DataFrame df.\n",
        "También necesito agrupar el DataFrame df por trimestre (quarter) y calcular la suma de 'revenue' para cada trimestre.\n",
        "\"\"\"\n",
        "\n",
        "# Primero, verificaré que 'event_date' y 'revenue' estén en mi DataFrame df.\n",
        "if 'event_date' in df.columns and 'revenue' in df.columns:\n",
        "    # Ahora, voy a convertir la columna 'event_date' en un objeto de tipo datetime y configurarlo como el índice del DataFrame df.\n",
        "    df['event_date'] = pd.to_datetime(df['event_date'])\n",
        "    df = df.set_index('event_date')\n",
        "    \"\"\"\n",
        "    Como el índice de mi DataFrame df es ahora un objeto de tipo datetime, puedo utilizar la función resample() de pandas para agrupar mis datos por trimestre.\n",
        "    También utilizaré la función sum() para calcular la suma de 'revenue' para cada trimestre.\n",
        "    \"\"\"\n",
        "    quarterly_revenue = df.resample('Q')['revenue'].sum()\n",
        "    print(quarterly_revenue)\n",
        "else:\n",
        "    # Si 'event_date' y/o 'revenue' no están en mi DataFrame, imprimiré un mensaje para informarme de ello.\n",
        "    print(\"Las columnas 'event_date' y/o 'revenue' no existen en el DataFrame.\")\n"
      ]
    }
  ],
  "metadata": {
    "kernelspec": {
      "display_name": "conda_python3",
      "language": "python",
      "name": "conda_python3"
    },
    "language_info": {
      "codemirror_mode": {
        "name": "ipython",
        "version": 3
      },
      "file_extension": ".py",
      "mimetype": "text/x-python",
      "name": "python",
      "nbconvert_exporter": "python",
      "pygments_lexer": "ipython3",
      "version": "3.6.13"
    },
    "colab": {
      "provenance": []
    }
  },
  "nbformat": 4,
  "nbformat_minor": 5
}